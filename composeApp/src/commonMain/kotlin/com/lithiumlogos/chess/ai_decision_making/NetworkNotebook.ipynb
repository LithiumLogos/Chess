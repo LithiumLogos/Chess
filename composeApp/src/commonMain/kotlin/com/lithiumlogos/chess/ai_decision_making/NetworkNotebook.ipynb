{
 "cells": [
  {
   "cell_type": "code",
   "metadata": {
    "collapsed": true,
    "ExecuteTime": {
     "end_time": "2024-08-30T20:59:35.738635100Z",
     "start_time": "2024-08-30T20:59:35.341546200Z"
    }
   },
   "source": [
    "import org.jetbrains.kotlinx.multik.api.Multik\n",
    "import org.jetbrains.kotlinx.multik.api.ndarray \n",
    "import org.jetbrains.kotlinx.multik.api.ndarrayOf\n",
    "\n",
    "val df = DataFrame.readCSV(\"C:/Users/David Hemstad/IdeaProjects/ChessGame/composeApp/src/commonMain/resources/data/games.csv\")\n",
    "val mk = Multik\n",
    "\n",
    "val white_rating by column<Int>()\n",
    "val black_rating by column<Int>()\n",
    "val moves by column<String>()\n",
    "val rating = 1977 // Gives more than 1000 entries\n",
    "val highElo = df.filter { it[white_rating] > rating && it[black_rating] > rating }\n",
    "// 9\n",
    "//println(highElo[\"moves\"])\n",
    "//println(highElo.size())\n",
    "\n",
    "// Extract the 'moves' column as a list of lists\n",
    "val movesList = highElo[moves].toList().map { it.split(\" \") }\n",
    "// [[e4, g6, ...],\n",
    "\n",
    "//// Print the ndarray\n",
    "//for (i in 1..3) {\n",
    "//    println(movesList.random()[1])\n",
    "//}\n",
    "\n",
    "println(movesList.random())\n"
   ],
   "outputs": [
    {
     "name": "stdout",
     "output_type": "stream",
     "text": [
      "[d4, d5, Nf3, Nf6, Bf4, e6, e3, c5, c3, Bd6, Bg5, Be7, Nbd2, O-O, Be2, Nc6, a3, b6, O-O, Bb7, Rc1, h6, Bh4, Rc8, h3, Qc7, b4, cxd4, cxd4, Qd7, Kh1, Rfd8, Qa4, a6, Rc2, b5, Qb3, Na7, Rfc1, Rxc2, Rxc2, Rc8, Bd3, Rxc2, Qxc2, Qc8, Nb3, Qxc2, Bxc2, Nc8, Nc5, Bxc5, bxc5, g5, Bg3, Ne7, Be5, Ne4, Bxe4, dxe4, Nd2, f5, Nb3, Bd5, Na5, Nc6, Nxc6, Bxc6, Bc7, Kf7, Kg1, Ke7, Kf1, Kd7, Bb6, Bd5, Ke1, Bc4, g3, Kc6, h4, gxh4, gxh4, h5, Kd2, Kd5, Kc3, e5, dxe5, Kxe5, c6, Kd6, c7, Kd7, Kd4]\r\n"
     ]
    }
   ],
   "execution_count": 76
  },
  {
   "metadata": {
    "ExecuteTime": {
     "end_time": "2024-08-30T16:42:36.716649700Z",
     "start_time": "2024-08-30T16:42:36.561614900Z"
    }
   },
   "cell_type": "code",
   "source": "",
   "outputs": [],
   "execution_count": 75
  }
 ],
 "metadata": {
  "kernelspec": {
   "display_name": "Kotlin",
   "language": "kotlin",
   "name": "kotlin"
  },
  "language_info": {
   "name": "kotlin",
   "version": "1.9.23",
   "mimetype": "text/x-kotlin",
   "file_extension": ".kt",
   "pygments_lexer": "kotlin",
   "codemirror_mode": "text/x-kotlin",
   "nbconvert_exporter": ""
  },
  "ktnbPluginMetadata": {
   "projectDependencies": [
    "ChessGame.composeApp.commonMain",
    "ChessGame.composeApp.commonTest",
    "ChessGame.composeApp.desktopMain",
    "ChessGame.composeApp.desktopTest"
   ]
  }
 },
 "nbformat": 4,
 "nbformat_minor": 0
}
